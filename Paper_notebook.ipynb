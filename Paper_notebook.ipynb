{
 "cells": [
  {
   "cell_type": "markdown",
   "metadata": {},
   "source": [
    "# Code for \"Optimal allocation of finite sampling capacity in accumulator models of multialternative decision making\" paper.\n",
    "\n",
    "For documentation, use '?function', where 'function' is the function that you want to know about."
   ]
  },
  {
   "cell_type": "code",
   "execution_count": 1,
   "metadata": {
    "nbpresent": {
     "id": "30aab845-e9db-404c-b42c-91a019bd32fd"
    }
   },
   "outputs": [],
   "source": [
    "using PyPlot"
   ]
  },
  {
   "cell_type": "code",
   "execution_count": 2,
   "metadata": {
    "nbpresent": {
     "id": "21aac9d8-736b-4388-987f-30a6f52ed86e"
    }
   },
   "outputs": [],
   "source": [
    "using CurveFit, SpecialFunctions, Distributions, LambertW, LaTeXStrings, LinearAlgebra, DelimitedFiles"
   ]
  },
  {
   "cell_type": "code",
   "execution_count": 3,
   "metadata": {
    "nbpresent": {
     "id": "70d1d31f-9471-4064-98a6-9ed48e3a5119"
    }
   },
   "outputs": [
    {
     "name": "stderr",
     "output_type": "stream",
     "text": [
      "┌ Info: Recompiling stale cache file /Users/jorgeramirezruiz/.julia/compiled/v1.1/race_functions.ji for race_functions [top-level]\n",
      "└ @ Base loading.jl:1184\n"
     ]
    }
   ],
   "source": [
    "push!(LOAD_PATH, \"./\")\n",
    "using race_functions\n",
    "rc(\"text\", usetex=true)\n",
    "rc(\"font\",family=\"serif\", serif = \"Computer Modern\")"
   ]
  },
  {
   "cell_type": "markdown",
   "metadata": {
    "nbpresent": {
     "id": "6b9caa6a-67de-4f41-97ee-5a8fb6fabf48"
    }
   },
   "source": [
    "# Figure 3"
   ]
  },
  {
   "cell_type": "code",
   "execution_count": 4,
   "metadata": {},
   "outputs": [
    {
     "name": "stdout",
     "output_type": "stream",
     "text": [
      "search: \u001b[0m\u001b[1mc\u001b[22m\u001b[0m\u001b[1mo\u001b[22m\u001b[0m\u001b[1mm\u001b[22m\u001b[0m\u001b[1mp\u001b[22m\u001b[0m\u001b[1mu\u001b[22m\u001b[0m\u001b[1mt\u001b[22m\u001b[0m\u001b[1me\u001b[22m\u001b[0m\u001b[1m_\u001b[22m\u001b[0m\u001b[1me\u001b[22m\u001b[0m\u001b[1mv\u001b[22m\u001b[0m\u001b[1me\u001b[22m\u001b[0m\u001b[1mn\u001b[22m\u001b[0m\u001b[1m_\u001b[22m\u001b[0m\u001b[1ma\u001b[22m\u001b[0m\u001b[1ml\u001b[22m\u001b[0m\u001b[1ml\u001b[22m\u001b[0m\u001b[1mo\u001b[22m\u001b[0m\u001b[1mc\u001b[22m\u001b[0m\u001b[1ma\u001b[22m\u001b[0m\u001b[1mt\u001b[22m\u001b[0m\u001b[1mi\u001b[22m\u001b[0m\u001b[1mo\u001b[22m\u001b[0m\u001b[1mn\u001b[22m\n",
      "\n"
     ]
    },
    {
     "data": {
      "text/latex": [
       "\\begin{verbatim}\n",
       "compute_even_allocation(σ,μ_0,σ_0_G,N_points,utility_plots = false,N_sim_scale = 1E6, sim = false)\n",
       "\\end{verbatim}\n",
       "Computes expected utility for Gaussian, uniform and bimodal priors. It has two general methods: \\texttt{utility\\_plots = true} refers to figure 3 and \\texttt{false} is for figure 4.\n",
       "\n",
       "\\section{Arguments}\n",
       "\\begin{itemize}\n",
       "\\item \\texttt{σ\\_0\\_G}: the standard deviation of Gaussian and common stdev for bimodal.\n",
       "\n",
       "\n",
       "\\item \\texttt{μ\\_0}: the mean for Gaussian.\n",
       "\n",
       "\n",
       "\\item \\texttt{N\\_sim\\_scale}: a measure of the number of Monte Carlo simulations to be used for each prior.\n",
       "\n",
       "\n",
       "\\item \\texttt{N\\_points}: the number of points used for numerical integration of analytical expressions.\n",
       "\n",
       "\n",
       "\\item \\texttt{sim}: a boolean to compute simulations or not.\n",
       "\n",
       "\\end{itemize}\n",
       "\\section{Output}\n",
       "If \\texttt{utility\\_plots = true}, it returns a tuple \\texttt{(C,M, Us\\_simG,Us\\_anG)}.\n",
       "\n",
       "\\begin{itemize}\n",
       "\\item \\texttt{C} is the several capacities at which we compute expected utility.\n",
       "\n",
       "\n",
       "\\item \\texttt{M} is the number of sampled accumulators. \n",
       "\n",
       "\n",
       "\\item \\texttt{Us\\_simG} is the simulated expected utility.\n",
       "\n",
       "\n",
       "\\item \\texttt{Us\\_anG} is the numerically integrated expected utility.\n",
       "\n",
       "\\end{itemize}\n",
       "For Gaussian prior.\n",
       "\n",
       "If \\texttt{utility\\_plots = false}, it returns a tuple containing the optimal Ms, \\texttt{(C,M\\_optG, M\\_optF, M\\_optB, M\\_opt\\_simG, M\\_opt\\_simF, M\\_opt\\_simB, M\\_opt\\_simG\\_def, M\\_opt\\_simF\\_def, M\\_opt\\_simB\\_def)}\n",
       "\n",
       "\\begin{itemize}\n",
       "\\item \\texttt{G,F,B} refer to Gaussian, uniform and bimodal priors, respectively.\n",
       "\n",
       "\n",
       "\\item \\texttt{def} subscript refers to the case when a default option can be chosen.\n",
       "\n",
       "\n",
       "\\item \\texttt{sim} referes to simulations, its absence means it is numerical integration.\n",
       "\n",
       "\\end{itemize}\n"
      ],
      "text/markdown": [
       "```\n",
       "compute_even_allocation(σ,μ_0,σ_0_G,N_points,utility_plots = false,N_sim_scale = 1E6, sim = false)\n",
       "```\n",
       "\n",
       "Computes expected utility for Gaussian, uniform and bimodal priors. It has two general methods: `utility_plots = true` refers to figure 3 and `false` is for figure 4.\n",
       "\n",
       "# Arguments\n",
       "\n",
       "  * `σ_0_G`: the standard deviation of Gaussian and common stdev for bimodal.\n",
       "  * `μ_0`: the mean for Gaussian.\n",
       "  * `N_sim_scale`: a measure of the number of Monte Carlo simulations to be used for each prior.\n",
       "  * `N_points`: the number of points used for numerical integration of analytical expressions.\n",
       "  * `sim`: a boolean to compute simulations or not.\n",
       "\n",
       "# Output\n",
       "\n",
       "If `utility_plots = true`, it returns a tuple `(C,M, Us_simG,Us_anG)`.\n",
       "\n",
       "  * `C` is the several capacities at which we compute expected utility.\n",
       "  * `M` is the number of sampled accumulators.\n",
       "  * `Us_simG` is the simulated expected utility.\n",
       "  * `Us_anG` is the numerically integrated expected utility.\n",
       "\n",
       "For Gaussian prior.\n",
       "\n",
       "If `utility_plots = false`, it returns a tuple containing the optimal Ms, `(C,M_optG, M_optF, M_optB, M_opt_simG, M_opt_simF, M_opt_simB, M_opt_simG_def, M_opt_simF_def, M_opt_simB_def)`\n",
       "\n",
       "  * `G,F,B` refer to Gaussian, uniform and bimodal priors, respectively.\n",
       "  * `def` subscript refers to the case when a default option can be chosen.\n",
       "  * `sim` referes to simulations, its absence means it is numerical integration.\n"
      ],
      "text/plain": [
       "\u001b[36m  compute_even_allocation(σ,μ_0,σ_0_G,N_points,utility_plots = false,N_sim_scale = 1E6, sim = false)\u001b[39m\n",
       "\n",
       "  Computes expected utility for Gaussian, uniform and bimodal priors. It has\n",
       "  two general methods: \u001b[36mutility_plots = true\u001b[39m refers to figure 3 and \u001b[36mfalse\u001b[39m is\n",
       "  for figure 4.\n",
       "\n",
       "\u001b[1m  Arguments\u001b[22m\n",
       "\u001b[1m  ≡≡≡≡≡≡≡≡≡≡≡\u001b[22m\n",
       "\n",
       "    •    \u001b[36mσ_0_G\u001b[39m: the standard deviation of Gaussian and common stdev for\n",
       "        bimodal.\n",
       "\n",
       "    •    \u001b[36mμ_0\u001b[39m: the mean for Gaussian.\n",
       "\n",
       "    •    \u001b[36mN_sim_scale\u001b[39m: a measure of the number of Monte Carlo simulations to\n",
       "        be used for each prior.\n",
       "\n",
       "    •    \u001b[36mN_points\u001b[39m: the number of points used for numerical integration of\n",
       "        analytical expressions.\n",
       "\n",
       "    •    \u001b[36msim\u001b[39m: a boolean to compute simulations or not.\n",
       "\n",
       "\u001b[1m  Output\u001b[22m\n",
       "\u001b[1m  ≡≡≡≡≡≡≡≡\u001b[22m\n",
       "\n",
       "  If \u001b[36mutility_plots = true\u001b[39m, it returns a tuple \u001b[36m(C,M, Us_simG,Us_anG)\u001b[39m.\n",
       "\n",
       "    •    \u001b[36mC\u001b[39m is the several capacities at which we compute expected utility.\n",
       "\n",
       "    •    \u001b[36mM\u001b[39m is the number of sampled accumulators. \n",
       "\n",
       "    •    \u001b[36mUs_simG\u001b[39m is the simulated expected utility.\n",
       "\n",
       "    •    \u001b[36mUs_anG\u001b[39m is the numerically integrated expected utility.\n",
       "\n",
       "  For Gaussian prior.\n",
       "\n",
       "  If \u001b[36mutility_plots = false\u001b[39m, it returns a tuple containing the optimal Ms,\n",
       "  \u001b[36m(C,M_optG, M_optF, M_optB, M_opt_simG, M_opt_simF, M_opt_simB,\n",
       "  M_opt_simG_def, M_opt_simF_def, M_opt_simB_def)\u001b[39m\n",
       "\n",
       "    •    \u001b[36mG,F,B\u001b[39m refer to Gaussian, uniform and bimodal priors, respectively.\n",
       "\n",
       "    •    \u001b[36mdef\u001b[39m subscript refers to the case when a default option can be\n",
       "        chosen.\n",
       "\n",
       "    •    \u001b[36msim\u001b[39m referes to simulations, its absence means it is numerical\n",
       "        integration."
      ]
     },
     "execution_count": 4,
     "metadata": {},
     "output_type": "execute_result"
    }
   ],
   "source": [
    "?compute_even_allocation"
   ]
  },
  {
   "cell_type": "code",
   "execution_count": 5,
   "metadata": {
    "nbpresent": {
     "id": "0283f5d4-267a-4067-8d98-3a507da23c9a"
    }
   },
   "outputs": [
    {
     "name": "stdout",
     "output_type": "stream",
     "text": [
      "620.158106 seconds (2.70 M allocations: 277.688 MiB, 0.03% gc time)\n"
     ]
    }
   ],
   "source": [
    "N_points = 1E5\n",
    "σ = 1\n",
    "μ_0 = 0.5\n",
    "σ_0_G = 1\n",
    "utility_plots = true\n",
    "N_sim = 1E5\n",
    "sim = true\n",
    "@time C,Us = compute_even_allocation(σ,μ_0,σ_0_G,N_points,utility_plots,N_sim,sim);"
   ]
  },
  {
   "cell_type": "code",
   "execution_count": 6,
   "metadata": {
    "nbpresent": {
     "id": "83bf8d58-08a9-4bf3-9edf-f3aff17a56c1"
    }
   },
   "outputs": [
    {
     "data": {
      "image/png": "[encoded data removed]",
      "text/plain": [
       "Figure(PyObject <Figure size 340.157x226.772 with 1 Axes>)"
      ]
     },
     "metadata": {},
     "output_type": "display_data"
    },
    {
     "data": {
      "text/plain": [
       "PyObject <matplotlib.legend.Legend object at 0x7fa45e34a7f0>"
      ]
     },
     "execution_count": 6,
     "metadata": {},
     "output_type": "execute_result"
    }
   ],
   "source": [
    "M = Us[1]\n",
    "plot_utility_even(C,M,Us[2],Us[3])\n",
    "#savefig(\"figures/fig3.pdf\")"
   ]
  },
  {
   "cell_type": "markdown",
   "metadata": {},
   "source": [
    "# Figure 4"
   ]
  },
  {
   "cell_type": "code",
   "execution_count": 7,
   "metadata": {
    "nbpresent": {
     "id": "35fd920b-ad54-494a-90f6-a1948ee1640d"
    }
   },
   "outputs": [
    {
     "name": "stdout",
     "output_type": "stream",
     "text": [
      "  8.258887 seconds (10.48 k allocations: 1.843 GiB, 1.77% gc time)\n"
     ]
    }
   ],
   "source": [
    "N_points = 1E5\n",
    "σ = 1\n",
    "μ_0 = 0.5\n",
    "σ_0_G = 1/sqrt(12)\n",
    "utility_plots = false\n",
    "#A measure of number of simulations, currently we use\n",
    "#more simulations for smaller capacities than for large ones.\n",
    "N_sim_scale = 1E6\n",
    "#If sim = false, it takes around 10 seconds to run, otherwise around half a day\n",
    "sim = false\n",
    "@time C,M_opts = compute_even_allocation(σ,μ_0,σ_0_G,N_points,utility_plots,N_sim,sim);"
   ]
  },
  {
   "cell_type": "code",
   "execution_count": 9,
   "metadata": {
    "nbpresent": {
     "id": "b346d4a8-2ebb-45c3-936c-fcd9ef27cb17"
    }
   },
   "outputs": [
    {
     "data": {
      "image/png": "[encoded data removed]",
      "text/plain": [
       "Figure(PyObject <Figure size 453.543x283.465 with 1 Axes>)"
      ]
     },
     "metadata": {},
     "output_type": "display_data"
    }
   ],
   "source": [
    "plot_Mopt_vs_C(C,M_opts[1],M_opts[2],M_opts[3],M_opts[4],M_opts[5],M_opts[6],M_opts[7],M_opts[8],M_opts[9],sim)\n",
    "#savefig(\"figures/fig4.pdf\");"
   ]
  },
  {
   "cell_type": "code",
   "execution_count": null,
   "metadata": {},
   "outputs": [],
   "source": [
    "# Script to save precious data\n",
    "# io = open(\"M_opts.dat\", \"w\")\n",
    "# writedlm(io, M_opts);\n",
    "# close(io)\n",
    "\n",
    "\n",
    "# To read precious data\n",
    "# M_opts_read = readdlm(\"M_opts.dat\");"
   ]
  },
  {
   "cell_type": "markdown",
   "metadata": {
    "nbpresent": {
     "id": "44d5eb44-0306-46bc-ae39-6b5fd0a7be93"
    }
   },
   "source": [
    "# Figure 5"
   ]
  },
  {
   "cell_type": "code",
   "execution_count": null,
   "metadata": {
    "nbpresent": {
     "id": "97d69ec5-bd5a-4139-a7f3-11c5c2a797dd"
    }
   },
   "outputs": [],
   "source": [
    "T = 0.1\n",
    "σ = 1\n",
    "μ_0 = 0.5\n",
    "σ_0 = 1\n",
    "#Number of points in the triangle, 50 points used in paper\n",
    "N_xy = 20\n",
    "N_z = 20\n",
    "N_sim = 1E7\n",
    "#colorbar = true means we plot only the colorbar in Fig. 5c\n",
    "colorbar = false\n",
    "@time plot_utility_triangle(T,σ,μ_0,σ_0,N_xy,N_z,N_sim,colorbar)"
   ]
  },
  {
   "cell_type": "code",
   "execution_count": null,
   "metadata": {
    "nbpresent": {
     "id": "3fd98b3a-5540-47cf-b372-dc612fbea414"
    }
   },
   "outputs": [],
   "source": [
    "T = 0.1\n",
    "σ = 1\n",
    "μ_0 = 0.5\n",
    "σ_0 = 1\n",
    "#Number of points between symmetric even allocations\n",
    "N_ts = 5\n",
    "N_sim = 5E8\n",
    "prior = \"Gaussian\"\n",
    "#default = true computes expected utility for the case when a default option can be chosen\n",
    "default = false\n",
    "@time U_directions = utility_directions(T,σ,μ_0,σ_0,N_ts,N_sim,prior,default);"
   ]
  },
  {
   "cell_type": "code",
   "execution_count": null,
   "metadata": {},
   "outputs": [],
   "source": [
    "plot_directions(N_ts,U_directions)\n",
    "#savefig(\"figures/fig5d.pdf\")"
   ]
  },
  {
   "cell_type": "markdown",
   "metadata": {
    "nbpresent": {
     "id": "db562fe8-f524-41de-b1ac-9e97a73aaf36"
    }
   },
   "source": [
    "## Projected gradient method with linear constraint"
   ]
  },
  {
   "cell_type": "code",
   "execution_count": null,
   "metadata": {
    "nbpresent": {
     "id": "b5f06a07-6daa-47e2-80d1-8293d0f2f8fc"
    }
   },
   "outputs": [],
   "source": [
    "Ts = [0.1,1,5]\n",
    "M_even = 10\n",
    "initial_M = [2*5,2*6,15]\n",
    "σ = 1\n",
    "σ_0 = 1\n",
    "N_points = 10\n",
    "sign_ascent = 1\n",
    "η = 0.1\n",
    "N_steps = 300\n",
    "@time meanss,stdss = compute_ascent_CV(Ts,σ,σ_0,N_points,initial_M,sign_ascent,η,N_steps);"
   ]
  },
  {
   "cell_type": "code",
   "execution_count": null,
   "metadata": {},
   "outputs": [],
   "source": [
    "plot_ascent_random(meanss,stdss,Ts,N_points)\n",
    "#savefig(\"figures/fig5e.pdf\")"
   ]
  },
  {
   "cell_type": "code",
   "execution_count": null,
   "metadata": {},
   "outputs": [],
   "source": [
    "# Script to save precious data\n",
    "# io = open(\"CV_stdss.txt\", \"w\")\n",
    "# writedlm(io, stdss)\n",
    "# close(io)\n",
    "# io = open(\"CV_meanss.txt\", \"w\")\n",
    "# writedlm(io, meanss)\n",
    "# close(io)\n",
    "\n",
    "# Script to read precious data\n",
    "# CV_data = readdlm(\"CV_stdss.txt\")\n",
    "# CV_reshaped = reshape(CV_data,(3,10,300));"
   ]
  }
 ],
 "metadata": {
  "anaconda-cloud": {},
  "kernelspec": {
   "display_name": "Julia 1.1.0",
   "language": "julia",
   "name": "julia-1.1"
  },
  "language_info": {
   "file_extension": ".jl",
   "mimetype": "application/julia",
   "name": "julia",
   "version": "1.1.0"
  }
 },
 "nbformat": 4,
 "nbformat_minor": 2
}
